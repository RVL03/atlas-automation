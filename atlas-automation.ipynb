{
 "cells": [
  {
   "cell_type": "code",
   "execution_count": 24,
   "id": "0b070257",
   "metadata": {},
   "outputs": [],
   "source": [
    "%matplotlib inline"
   ]
  },
  {
   "cell_type": "code",
   "execution_count": 86,
   "id": "258e2b81",
   "metadata": {},
   "outputs": [],
   "source": [
    "import os\n",
    "import numpy as np\n",
    "import pandas as pd\n",
    "import geopandas as gpd\n",
    "import ee\n",
    "import geemap\n",
    "import cartopy \n",
    "import cartopy.crs as ccrs\n",
    "import geemap.colormaps as cm\n",
    "import folium\n",
    "import contextily as ctx\n",
    "\n",
    "from matplotlib_scalebar.scalebar import ScaleBar\n",
    "from matplotlib.patches import Patch, Rectangle\n",
    "import adjustText as aT\n",
    "from adjustText import adjust_text\n",
    "from matplotlib.lines import Line2D\n",
    "from mpl_toolkits.axes_grid1 import make_axes_locatable\n",
    "from geemap import cartoee\n",
    "from matplotlib import pyplot as plt\n",
    "from IPython.display import Image"
   ]
  },
  {
   "cell_type": "code",
   "execution_count": 4,
   "id": "b5be0a79",
   "metadata": {},
   "outputs": [
    {
     "data": {
      "text/html": [
       "<p>To authorize access needed by Earth Engine, open the following\n",
       "        URL in a web browser and follow the instructions:</p>\n",
       "        <p><a href=https://code.earthengine.google.com/client-auth?scopes=https%3A//www.googleapis.com/auth/earthengine%20https%3A//www.googleapis.com/auth/devstorage.full_control&request_id=RhTg4Ev6cSuyZI2tK81t8Iu4-374say0fbcxKAvZk_4&tc=7xQU5qSeHLcQ5585JlcATjjMLZ3nKlmas5xH0qsoPAo&cc=vQW818kJXgkJN08K-vAMbZRhNifreKGz05ILAfyivZk>https://code.earthengine.google.com/client-auth?scopes=https%3A//www.googleapis.com/auth/earthengine%20https%3A//www.googleapis.com/auth/devstorage.full_control&request_id=RhTg4Ev6cSuyZI2tK81t8Iu4-374say0fbcxKAvZk_4&tc=7xQU5qSeHLcQ5585JlcATjjMLZ3nKlmas5xH0qsoPAo&cc=vQW818kJXgkJN08K-vAMbZRhNifreKGz05ILAfyivZk</a></p>\n",
       "        <p>The authorization workflow will generate a code, which you should paste in the box below.</p>\n",
       "        "
      ],
      "text/plain": [
       "<IPython.core.display.HTML object>"
      ]
     },
     "metadata": {},
     "output_type": "display_data"
    },
    {
     "name": "stdin",
     "output_type": "stream",
     "text": [
      "Enter verification code:  4/1AWgavdd4S36G8E6wzFgpR2SOvjtS-6mCNDFQLP4mZMU0MlFYtrkHjN5NEA4\n"
     ]
    },
    {
     "name": "stdout",
     "output_type": "stream",
     "text": [
      "\n",
      "Successfully saved authorization token.\n"
     ]
    }
   ],
   "source": [
    "ee.Authenticate()\n",
    "ee.Initialize()"
   ]
  },
  {
   "cell_type": "code",
   "execution_count": 5,
   "id": "535ec2aa",
   "metadata": {},
   "outputs": [],
   "source": [
    "## Lat and lon for center extent\n",
    "lat = 34.481\n",
    "lon = -18.862\n",
    "\n",
    "## Import region of interest from google asset\n",
    "roi = ee.FeatureCollection (\"users/gee07revalue/sofala_province_gorongosa\")"
   ]
  },
  {
   "cell_type": "code",
   "execution_count": 90,
   "id": "d9bc8343",
   "metadata": {},
   "outputs": [
    {
     "data": {
      "text/html": [
       "<div>\n",
       "<style scoped>\n",
       "    .dataframe tbody tr th:only-of-type {\n",
       "        vertical-align: middle;\n",
       "    }\n",
       "\n",
       "    .dataframe tbody tr th {\n",
       "        vertical-align: top;\n",
       "    }\n",
       "\n",
       "    .dataframe thead th {\n",
       "        text-align: right;\n",
       "    }\n",
       "</style>\n",
       "<table border=\"1\" class=\"dataframe\">\n",
       "  <thead>\n",
       "    <tr style=\"text-align: right;\">\n",
       "      <th></th>\n",
       "      <th>geometry</th>\n",
       "      <th>COUNTRY</th>\n",
       "      <th>GID_2</th>\n",
       "      <th>NAME_1</th>\n",
       "    </tr>\n",
       "  </thead>\n",
       "  <tbody>\n",
       "    <tr>\n",
       "      <th>0</th>\n",
       "      <td>MULTIPOLYGON (((34.69014 -20.55792, 34.69042 -...</td>\n",
       "      <td>Mozambique</td>\n",
       "      <td>MOZ.9.1_1</td>\n",
       "      <td>Sofala</td>\n",
       "    </tr>\n",
       "  </tbody>\n",
       "</table>\n",
       "</div>"
      ],
      "text/plain": [
       "                                            geometry     COUNTRY      GID_2  \\\n",
       "0  MULTIPOLYGON (((34.69014 -20.55792, 34.69042 -...  Mozambique  MOZ.9.1_1   \n",
       "\n",
       "   NAME_1  \n",
       "0  Sofala  "
      ]
     },
     "execution_count": 90,
     "metadata": {},
     "output_type": "execute_result"
    }
   ],
   "source": [
    "## convert roi to dataframe\n",
    "df_roi = geemap.ee_to_geopandas(roi)\n",
    "df_roi.head()"
   ]
  },
  {
   "cell_type": "code",
   "execution_count": 6,
   "id": "28a5736a",
   "metadata": {},
   "outputs": [],
   "source": [
    "## Import landsat dataset from google asset\n",
    "dataset = ee.ImageCollection(\"users/gee03revalue/sofala-images/sofala-collection\")"
   ]
  },
  {
   "cell_type": "code",
   "execution_count": 7,
   "id": "f0c5588e",
   "metadata": {},
   "outputs": [
    {
     "name": "stdout",
     "output_type": "stream",
     "text": [
      "Total Images: 4\n"
     ]
    }
   ],
   "source": [
    "## Print total images\n",
    "print(\"Total Images:\",dataset.size().getInfo())"
   ]
  },
  {
   "cell_type": "code",
   "execution_count": 8,
   "id": "dd0a1189",
   "metadata": {},
   "outputs": [],
   "source": [
    "## Spectral Indices Function\n",
    "def defaultIndices (img):\n",
    "    ndvi  = img.normalizedDifference(['NIR','RED']).rename('NDVI')\n",
    "    ndmi  = img.normalizedDifference(['NIR','SWIR1']).rename('NDMI')\n",
    "    bsi   = img.expression('((SWIR1 + RED) - (NIR + BLUE))/((SWIR1 + RED) + (NIR + BLUE))', {\n",
    "                                                                'NIR'   : img.select('NIR'),\n",
    "                                                                'RED'   : img.select('RED'),\n",
    "                                                                'BLUE'  : img.select('BLUE'),\n",
    "                                                                'SWIR1' : img.select('SWIR1'),\n",
    "                                                          }).rename('BSI')\n",
    "    ndwi  = img.normalizedDifference(['GREEN','SWIR1']).rename('NDWI')\n",
    "    return img.clip(roi).addBands(ndvi).addBands(ndmi).addBands(bsi).addBands(ndwi)"
   ]
  },
  {
   "cell_type": "code",
   "execution_count": 9,
   "id": "49cdb9fa",
   "metadata": {},
   "outputs": [],
   "source": [
    "## define visual parameters true color\n",
    "trueColor = {\n",
    "                'bands':['RED','GREEN','BLUE'],\n",
    "                'min':7000,\n",
    "                'max':18000,\n",
    "                'dimensions':300,\n",
    "                'region':roi.geometry()\n",
    "                }"
   ]
  },
  {
   "cell_type": "code",
   "execution_count": 10,
   "id": "846713d9",
   "metadata": {},
   "outputs": [],
   "source": [
    "## define visual parameters false color\n",
    "falseColor = {\n",
    "                'bands':['NIR','SWIR1','SWIR2'],\n",
    "                'min':8000,\n",
    "                'max':18000,\n",
    "                'dimensions':300,\n",
    "                'region':roi.geometry()\n",
    "                  }"
   ]
  },
  {
   "cell_type": "code",
   "execution_count": 11,
   "id": "50e618eb",
   "metadata": {},
   "outputs": [],
   "source": [
    "## define visual parameters true color\n",
    "indices_viz_params = {\n",
    "            'min': 0,\n",
    "            'max': 0.5,\n",
    "            'dimensions':300,\n",
    "            'region':roi.geometry(),\n",
    "            'palette': cm.get_palette(cmap_name='viridis')}"
   ]
  },
  {
   "cell_type": "code",
   "execution_count": 12,
   "id": "0b9c339a",
   "metadata": {},
   "outputs": [],
   "source": [
    "## Rename the bands\n",
    "img_col = dataset.select(dataset.first().bandNames(),['BLUE','GREEN','RED','NIR','SWIR1','SWIR2']).map(defaultIndices)\n",
    "\n",
    "## Make the collection into list\n",
    "img_list = img_col.toList(dataset.size())"
   ]
  },
  {
   "cell_type": "code",
   "execution_count": 13,
   "id": "1da073a6",
   "metadata": {},
   "outputs": [
    {
     "name": "stdout",
     "output_type": "stream",
     "text": [
      "['BLUE', 'GREEN', 'RED', 'NIR', 'SWIR1', 'SWIR2', 'NDVI', 'NDMI', 'BSI', 'NDWI']\n"
     ]
    }
   ],
   "source": [
    "## Print band Names\n",
    "print (img_col.first().bandNames().getInfo())"
   ]
  },
  {
   "cell_type": "code",
   "execution_count": 14,
   "id": "79c3caf0",
   "metadata": {},
   "outputs": [],
   "source": [
    "# Select ndvi as an example\n",
    "ndvi_2013 = ee.Image(img_col.first()).select('NDVI')"
   ]
  },
  {
   "cell_type": "code",
   "execution_count": 15,
   "id": "4f09bcc4",
   "metadata": {},
   "outputs": [
    {
     "name": "stdout",
     "output_type": "stream",
     "text": [
      "https://earthengine.googleapis.com/v1alpha/projects/earthengine-legacy/thumbnails/1b4700e51de8469409cde7b0a8ddf448-e089716f493eb3493a57a64b1d921515:getPixels\n",
      "\n",
      "Please wait while the thumbnail loads, it may take a moment...\n"
     ]
    },
    {
     "data": {
      "text/html": [
       "<img src=\"https://earthengine.googleapis.com/v1alpha/projects/earthengine-legacy/thumbnails/1b4700e51de8469409cde7b0a8ddf448-e089716f493eb3493a57a64b1d921515:getPixels\"/>"
      ],
      "text/plain": [
       "<IPython.core.display.Image object>"
      ]
     },
     "execution_count": 15,
     "metadata": {},
     "output_type": "execute_result"
    }
   ],
   "source": [
    "# Create a URL to the styled image for a region around France.\n",
    "url = ndvi_2013.getThumbUrl(indices_viz_params)\n",
    "print(url)\n",
    "\n",
    "# Display the thumbnail land surface temperature in France.\n",
    "print('\\nPlease wait while the thumbnail loads, it may take a moment...')\n",
    "Image(url=url)"
   ]
  },
  {
   "cell_type": "code",
   "execution_count": 17,
   "id": "ba4c382e",
   "metadata": {},
   "outputs": [
    {
     "name": "stdout",
     "output_type": "stream",
     "text": [
      "Image # 0 Sofala_2013\n"
     ]
    },
    {
     "data": {
      "text/html": [
       "<img src=\"https://earthengine.googleapis.com/v1alpha/projects/earthengine-legacy/thumbnails/3f07b18a6f22c6e38d40b4d382207b15-6e43ed66f521102d6b04e45cf9b7ca46:getPixels\"/>"
      ],
      "text/plain": [
       "<IPython.core.display.Image object>"
      ]
     },
     "metadata": {},
     "output_type": "display_data"
    },
    {
     "name": "stdout",
     "output_type": "stream",
     "text": [
      "Image # 1 Sofala_2016\n"
     ]
    },
    {
     "data": {
      "text/html": [
       "<img src=\"https://earthengine.googleapis.com/v1alpha/projects/earthengine-legacy/thumbnails/ee4990605159eb4846fb7c273ed817ac-e4cdd16a3c627f43185f8f5647de2d41:getPixels\"/>"
      ],
      "text/plain": [
       "<IPython.core.display.Image object>"
      ]
     },
     "metadata": {},
     "output_type": "display_data"
    },
    {
     "name": "stdout",
     "output_type": "stream",
     "text": [
      "Image # 2 Sofala_2019\n"
     ]
    },
    {
     "data": {
      "text/html": [
       "<img src=\"https://earthengine.googleapis.com/v1alpha/projects/earthengine-legacy/thumbnails/bd3affdcdeb79d31afea07b3f9966e83-440e7f946b57b0a12f5f33b6126c0f51:getPixels\"/>"
      ],
      "text/plain": [
       "<IPython.core.display.Image object>"
      ]
     },
     "metadata": {},
     "output_type": "display_data"
    },
    {
     "name": "stdout",
     "output_type": "stream",
     "text": [
      "Image # 3 Sofala_2022\n"
     ]
    },
    {
     "data": {
      "text/html": [
       "<img src=\"https://earthengine.googleapis.com/v1alpha/projects/earthengine-legacy/thumbnails/47874719e80b792b5835b88229452494-b7b446c86b41b88e3e00f7a55adb3f64:getPixels\"/>"
      ],
      "text/plain": [
       "<IPython.core.display.Image object>"
      ]
     },
     "metadata": {},
     "output_type": "display_data"
    }
   ],
   "source": [
    "# Empty Container\n",
    "data = []\n",
    "\n",
    "# loop through each image and display it\n",
    "for i in range (dataset.size().getInfo()):\n",
    "\n",
    "  # to get the date\n",
    "  year = ee.Image(img_list.get(i)).get('system:index').getInfo()\n",
    "  \n",
    "  # Print their properties\n",
    "  print ('Image #',i,year)\n",
    "\n",
    "  # Display the images\n",
    "  display(Image(url=ee.Image(img_list.get(i)).getThumbUrl(falseColor)))\n",
    "\n",
    "  # Make it into list\n",
    "  this_data = [i,year]\n",
    "\n",
    "  # append to the empty container\n",
    "  data.append(this_data)\n",
    "\n",
    "# then create dataframe\n",
    "df = pd.DataFrame (data,columns = ['Image #','Date'])"
   ]
  },
  {
   "cell_type": "code",
   "execution_count": 18,
   "id": "f9e57878",
   "metadata": {},
   "outputs": [],
   "source": [
    "def add_ee_layer(self, ee_image_object, vis_params, name):\n",
    "  map_id_dict = ee.Image(ee_image_object).getMapId(vis_params)\n",
    "  folium.raster_layers.TileLayer(\n",
    "      tiles=map_id_dict['tile_fetcher'].url_format,\n",
    "      attr='Map Data &copy; <a href=\"https://earthengine.google.com/\">Google Earth Engine</a>',\n",
    "      name=name,\n",
    "      overlay=True,\n",
    "      control=True\n",
    "  ).add_to(self)\n",
    "\n",
    "folium.Map.add_ee_layer = add_ee_layer"
   ]
  },
  {
   "cell_type": "code",
   "execution_count": 19,
   "id": "f0fb1ca9",
   "metadata": {},
   "outputs": [
    {
     "data": {
      "text/html": [
       "<div style=\"width:100%;\"><div style=\"position:relative;width:100%;height:0;padding-bottom:60%;\"><span style=\"color:#565656\">Make this Notebook Trusted to load map: File -> Trust Notebook</span><iframe srcdoc=\"&lt;!DOCTYPE html&gt;\n",
       "&lt;html&gt;\n",
       "&lt;head&gt;\n",
       "    \n",
       "    &lt;meta http-equiv=&quot;content-type&quot; content=&quot;text/html; charset=UTF-8&quot; /&gt;\n",
       "    \n",
       "        &lt;script&gt;\n",
       "            L_NO_TOUCH = false;\n",
       "            L_DISABLE_3D = false;\n",
       "        &lt;/script&gt;\n",
       "    \n",
       "    &lt;style&gt;html, body {width: 100%;height: 100%;margin: 0;padding: 0;}&lt;/style&gt;\n",
       "    &lt;style&gt;#map {position:absolute;top:0;bottom:0;right:0;left:0;}&lt;/style&gt;\n",
       "    &lt;script src=&quot;https://cdn.jsdelivr.net/npm/leaflet@1.9.3/dist/leaflet.js&quot;&gt;&lt;/script&gt;\n",
       "    &lt;script src=&quot;https://code.jquery.com/jquery-1.12.4.min.js&quot;&gt;&lt;/script&gt;\n",
       "    &lt;script src=&quot;https://cdn.jsdelivr.net/npm/bootstrap@5.2.2/dist/js/bootstrap.bundle.min.js&quot;&gt;&lt;/script&gt;\n",
       "    &lt;script src=&quot;https://cdnjs.cloudflare.com/ajax/libs/Leaflet.awesome-markers/2.0.2/leaflet.awesome-markers.js&quot;&gt;&lt;/script&gt;\n",
       "    &lt;link rel=&quot;stylesheet&quot; href=&quot;https://cdn.jsdelivr.net/npm/leaflet@1.9.3/dist/leaflet.css&quot;/&gt;\n",
       "    &lt;link rel=&quot;stylesheet&quot; href=&quot;https://cdn.jsdelivr.net/npm/bootstrap@5.2.2/dist/css/bootstrap.min.css&quot;/&gt;\n",
       "    &lt;link rel=&quot;stylesheet&quot; href=&quot;https://netdna.bootstrapcdn.com/bootstrap/3.0.0/css/bootstrap.min.css&quot;/&gt;\n",
       "    &lt;link rel=&quot;stylesheet&quot; href=&quot;https://cdn.jsdelivr.net/npm/@fortawesome/fontawesome-free@6.2.0/css/all.min.css&quot;/&gt;\n",
       "    &lt;link rel=&quot;stylesheet&quot; href=&quot;https://cdnjs.cloudflare.com/ajax/libs/Leaflet.awesome-markers/2.0.2/leaflet.awesome-markers.css&quot;/&gt;\n",
       "    &lt;link rel=&quot;stylesheet&quot; href=&quot;https://cdn.jsdelivr.net/gh/python-visualization/folium/folium/templates/leaflet.awesome.rotate.min.css&quot;/&gt;\n",
       "    \n",
       "            &lt;meta name=&quot;viewport&quot; content=&quot;width=device-width,\n",
       "                initial-scale=1.0, maximum-scale=1.0, user-scalable=no&quot; /&gt;\n",
       "            &lt;style&gt;\n",
       "                #map_e150e670d9f3006f49b394760a58d986 {\n",
       "                    position: relative;\n",
       "                    width: 100.0%;\n",
       "                    height: 100.0%;\n",
       "                    left: 0.0%;\n",
       "                    top: 0.0%;\n",
       "                }\n",
       "                .leaflet-container { font-size: 1rem; }\n",
       "            &lt;/style&gt;\n",
       "        \n",
       "&lt;/head&gt;\n",
       "&lt;body&gt;\n",
       "    \n",
       "    \n",
       "            &lt;div class=&quot;folium-map&quot; id=&quot;map_e150e670d9f3006f49b394760a58d986&quot; &gt;&lt;/div&gt;\n",
       "        \n",
       "&lt;/body&gt;\n",
       "&lt;script&gt;\n",
       "    \n",
       "    \n",
       "            var map_e150e670d9f3006f49b394760a58d986 = L.map(\n",
       "                &quot;map_e150e670d9f3006f49b394760a58d986&quot;,\n",
       "                {\n",
       "                    center: [-18.862, 34.481],\n",
       "                    crs: L.CRS.EPSG3857,\n",
       "                    zoom: 10,\n",
       "                    zoomControl: true,\n",
       "                    preferCanvas: false,\n",
       "                }\n",
       "            );\n",
       "\n",
       "            \n",
       "\n",
       "        \n",
       "    \n",
       "            var tile_layer_1b9e6142cafa417d47ccb72cd61a8138 = L.tileLayer(\n",
       "                &quot;https://{s}.tile.openstreetmap.org/{z}/{x}/{y}.png&quot;,\n",
       "                {&quot;attribution&quot;: &quot;Data by \\u0026copy; \\u003ca target=\\&quot;_blank\\&quot; href=\\&quot;http://openstreetmap.org\\&quot;\\u003eOpenStreetMap\\u003c/a\\u003e, under \\u003ca target=\\&quot;_blank\\&quot; href=\\&quot;http://www.openstreetmap.org/copyright\\&quot;\\u003eODbL\\u003c/a\\u003e.&quot;, &quot;detectRetina&quot;: false, &quot;maxNativeZoom&quot;: 18, &quot;maxZoom&quot;: 18, &quot;minZoom&quot;: 0, &quot;noWrap&quot;: false, &quot;opacity&quot;: 1, &quot;subdomains&quot;: &quot;abc&quot;, &quot;tms&quot;: false}\n",
       "            ).addTo(map_e150e670d9f3006f49b394760a58d986);\n",
       "        \n",
       "    \n",
       "            var tile_layer_23ab85cb6483b2fe19d759194eb8a02a = L.tileLayer(\n",
       "                &quot;https://earthengine.googleapis.com/v1alpha/projects/earthengine-legacy/maps/f49373e56a6a44cd0361006e31b0bef6-56a53173678845543019114b8297389a/tiles/{z}/{x}/{y}&quot;,\n",
       "                {&quot;attribution&quot;: &quot;Map Data \\u0026copy; \\u003ca href=\\&quot;https://earthengine.google.com/\\&quot;\\u003eGoogle Earth Engine\\u003c/a\\u003e&quot;, &quot;detectRetina&quot;: false, &quot;maxNativeZoom&quot;: 18, &quot;maxZoom&quot;: 18, &quot;minZoom&quot;: 0, &quot;noWrap&quot;: false, &quot;opacity&quot;: 1, &quot;subdomains&quot;: &quot;abc&quot;, &quot;tms&quot;: false}\n",
       "            ).addTo(map_e150e670d9f3006f49b394760a58d986);\n",
       "        \n",
       "    \n",
       "            var tile_layer_2012aad856d03cf5d1a80dcce3e94e3e = L.tileLayer(\n",
       "                &quot;https://earthengine.googleapis.com/v1alpha/projects/earthengine-legacy/maps/1132855f0e2316848258091c194c5b91-05ad077e338a7f2d76761f7e5ef8495d/tiles/{z}/{x}/{y}&quot;,\n",
       "                {&quot;attribution&quot;: &quot;Map Data \\u0026copy; \\u003ca href=\\&quot;https://earthengine.google.com/\\&quot;\\u003eGoogle Earth Engine\\u003c/a\\u003e&quot;, &quot;detectRetina&quot;: false, &quot;maxNativeZoom&quot;: 18, &quot;maxZoom&quot;: 18, &quot;minZoom&quot;: 0, &quot;noWrap&quot;: false, &quot;opacity&quot;: 1, &quot;subdomains&quot;: &quot;abc&quot;, &quot;tms&quot;: false}\n",
       "            ).addTo(map_e150e670d9f3006f49b394760a58d986);\n",
       "        \n",
       "    \n",
       "            var tile_layer_d91dbe2db591a931ccc8cb7ca634210b = L.tileLayer(\n",
       "                &quot;https://earthengine.googleapis.com/v1alpha/projects/earthengine-legacy/maps/2c6b0862a582ee13e6a24897786d9e14-a84122e8d7785188a640afbd379014a2/tiles/{z}/{x}/{y}&quot;,\n",
       "                {&quot;attribution&quot;: &quot;Map Data \\u0026copy; \\u003ca href=\\&quot;https://earthengine.google.com/\\&quot;\\u003eGoogle Earth Engine\\u003c/a\\u003e&quot;, &quot;detectRetina&quot;: false, &quot;maxNativeZoom&quot;: 18, &quot;maxZoom&quot;: 18, &quot;minZoom&quot;: 0, &quot;noWrap&quot;: false, &quot;opacity&quot;: 1, &quot;subdomains&quot;: &quot;abc&quot;, &quot;tms&quot;: false}\n",
       "            ).addTo(map_e150e670d9f3006f49b394760a58d986);\n",
       "        \n",
       "    \n",
       "            var tile_layer_ebabd860c1de3cf8920c14ba947fec2b = L.tileLayer(\n",
       "                &quot;https://earthengine.googleapis.com/v1alpha/projects/earthengine-legacy/maps/f415c331b612580ff8aeda36e8606728-379b742ab2b82de49aa7ea61961f7715/tiles/{z}/{x}/{y}&quot;,\n",
       "                {&quot;attribution&quot;: &quot;Map Data \\u0026copy; \\u003ca href=\\&quot;https://earthengine.google.com/\\&quot;\\u003eGoogle Earth Engine\\u003c/a\\u003e&quot;, &quot;detectRetina&quot;: false, &quot;maxNativeZoom&quot;: 18, &quot;maxZoom&quot;: 18, &quot;minZoom&quot;: 0, &quot;noWrap&quot;: false, &quot;opacity&quot;: 1, &quot;subdomains&quot;: &quot;abc&quot;, &quot;tms&quot;: false}\n",
       "            ).addTo(map_e150e670d9f3006f49b394760a58d986);\n",
       "        \n",
       "    \n",
       "            var layer_control_dbbda06c55418b7053cbe96e0b5a6b42 = {\n",
       "                base_layers : {\n",
       "                    &quot;openstreetmap&quot; : tile_layer_1b9e6142cafa417d47ccb72cd61a8138,\n",
       "                },\n",
       "                overlays :  {\n",
       "                    &quot;Sofala_2013&quot; : tile_layer_23ab85cb6483b2fe19d759194eb8a02a,\n",
       "                    &quot;Sofala_2016&quot; : tile_layer_2012aad856d03cf5d1a80dcce3e94e3e,\n",
       "                    &quot;Sofala_2019&quot; : tile_layer_d91dbe2db591a931ccc8cb7ca634210b,\n",
       "                    &quot;Sofala_2022&quot; : tile_layer_ebabd860c1de3cf8920c14ba947fec2b,\n",
       "                },\n",
       "            };\n",
       "            L.control.layers(\n",
       "                layer_control_dbbda06c55418b7053cbe96e0b5a6b42.base_layers,\n",
       "                layer_control_dbbda06c55418b7053cbe96e0b5a6b42.overlays,\n",
       "                {&quot;autoZIndex&quot;: true, &quot;collapsed&quot;: false, &quot;position&quot;: &quot;topright&quot;}\n",
       "            ).addTo(map_e150e670d9f3006f49b394760a58d986);\n",
       "        \n",
       "&lt;/script&gt;\n",
       "&lt;/html&gt;\" style=\"position:absolute;width:100%;height:100%;left:0;top:0;border:none !important;\" allowfullscreen webkitallowfullscreen mozallowfullscreen></iframe></div></div>"
      ],
      "text/plain": [
       "<folium.folium.Map at 0x2030d464f70>"
      ]
     },
     "metadata": {},
     "output_type": "display_data"
    }
   ],
   "source": [
    "# Create a map\n",
    "my_map = folium.Map(location=[lon, lat], zoom_start=10)\n",
    "\n",
    "# Add a layer for each satellite image of interest (before, during and after)\n",
    "for img in range (dataset.size().getInfo()):\n",
    "\n",
    "    # when was this image taken?\n",
    "    year = ee.Image(img_list.get(img)).get('system:index').getInfo()\n",
    "\n",
    "    my_map.add_ee_layer(ee.Image(img_list.get(img)), falseColor, name=year)\n",
    "    \n",
    "# Add a layer control panel to the map\n",
    "folium.LayerControl(collapsed = False).add_to(my_map)\n",
    "\n",
    "# Display the map.\n",
    "display(my_map)"
   ]
  },
  {
   "cell_type": "code",
   "execution_count": 20,
   "id": "f5d38a53",
   "metadata": {},
   "outputs": [
    {
     "data": {
      "text/html": [
       "<div style=\"width:100%;\"><div style=\"position:relative;width:100%;height:0;padding-bottom:60%;\"><span style=\"color:#565656\">Make this Notebook Trusted to load map: File -> Trust Notebook</span><iframe srcdoc=\"&lt;!DOCTYPE html&gt;\n",
       "&lt;html&gt;\n",
       "&lt;head&gt;\n",
       "    \n",
       "    &lt;meta http-equiv=&quot;content-type&quot; content=&quot;text/html; charset=UTF-8&quot; /&gt;\n",
       "    \n",
       "        &lt;script&gt;\n",
       "            L_NO_TOUCH = false;\n",
       "            L_DISABLE_3D = false;\n",
       "        &lt;/script&gt;\n",
       "    \n",
       "    &lt;style&gt;html, body {width: 100%;height: 100%;margin: 0;padding: 0;}&lt;/style&gt;\n",
       "    &lt;style&gt;#map {position:absolute;top:0;bottom:0;right:0;left:0;}&lt;/style&gt;\n",
       "    &lt;script src=&quot;https://cdn.jsdelivr.net/npm/leaflet@1.9.3/dist/leaflet.js&quot;&gt;&lt;/script&gt;\n",
       "    &lt;script src=&quot;https://code.jquery.com/jquery-1.12.4.min.js&quot;&gt;&lt;/script&gt;\n",
       "    &lt;script src=&quot;https://cdn.jsdelivr.net/npm/bootstrap@5.2.2/dist/js/bootstrap.bundle.min.js&quot;&gt;&lt;/script&gt;\n",
       "    &lt;script src=&quot;https://cdnjs.cloudflare.com/ajax/libs/Leaflet.awesome-markers/2.0.2/leaflet.awesome-markers.js&quot;&gt;&lt;/script&gt;\n",
       "    &lt;link rel=&quot;stylesheet&quot; href=&quot;https://cdn.jsdelivr.net/npm/leaflet@1.9.3/dist/leaflet.css&quot;/&gt;\n",
       "    &lt;link rel=&quot;stylesheet&quot; href=&quot;https://cdn.jsdelivr.net/npm/bootstrap@5.2.2/dist/css/bootstrap.min.css&quot;/&gt;\n",
       "    &lt;link rel=&quot;stylesheet&quot; href=&quot;https://netdna.bootstrapcdn.com/bootstrap/3.0.0/css/bootstrap.min.css&quot;/&gt;\n",
       "    &lt;link rel=&quot;stylesheet&quot; href=&quot;https://cdn.jsdelivr.net/npm/@fortawesome/fontawesome-free@6.2.0/css/all.min.css&quot;/&gt;\n",
       "    &lt;link rel=&quot;stylesheet&quot; href=&quot;https://cdnjs.cloudflare.com/ajax/libs/Leaflet.awesome-markers/2.0.2/leaflet.awesome-markers.css&quot;/&gt;\n",
       "    &lt;link rel=&quot;stylesheet&quot; href=&quot;https://cdn.jsdelivr.net/gh/python-visualization/folium/folium/templates/leaflet.awesome.rotate.min.css&quot;/&gt;\n",
       "    \n",
       "            &lt;meta name=&quot;viewport&quot; content=&quot;width=device-width,\n",
       "                initial-scale=1.0, maximum-scale=1.0, user-scalable=no&quot; /&gt;\n",
       "            &lt;style&gt;\n",
       "                #map_9c61a0097079e086a14a9141b9ee50ac {\n",
       "                    position: relative;\n",
       "                    width: 100.0%;\n",
       "                    height: 100.0%;\n",
       "                    left: 0.0%;\n",
       "                    top: 0.0%;\n",
       "                }\n",
       "                .leaflet-container { font-size: 1rem; }\n",
       "            &lt;/style&gt;\n",
       "        \n",
       "&lt;/head&gt;\n",
       "&lt;body&gt;\n",
       "    \n",
       "    \n",
       "            &lt;div class=&quot;folium-map&quot; id=&quot;map_9c61a0097079e086a14a9141b9ee50ac&quot; &gt;&lt;/div&gt;\n",
       "        \n",
       "&lt;/body&gt;\n",
       "&lt;script&gt;\n",
       "    \n",
       "    \n",
       "            var map_9c61a0097079e086a14a9141b9ee50ac = L.map(\n",
       "                &quot;map_9c61a0097079e086a14a9141b9ee50ac&quot;,\n",
       "                {\n",
       "                    center: [-18.862, 34.481],\n",
       "                    crs: L.CRS.EPSG3857,\n",
       "                    zoom: 10,\n",
       "                    zoomControl: true,\n",
       "                    preferCanvas: false,\n",
       "                }\n",
       "            );\n",
       "\n",
       "            \n",
       "\n",
       "        \n",
       "    \n",
       "            var tile_layer_eb19e763a573325b11a0a78a300dd3e7 = L.tileLayer(\n",
       "                &quot;https://{s}.tile.openstreetmap.org/{z}/{x}/{y}.png&quot;,\n",
       "                {&quot;attribution&quot;: &quot;Data by \\u0026copy; \\u003ca target=\\&quot;_blank\\&quot; href=\\&quot;http://openstreetmap.org\\&quot;\\u003eOpenStreetMap\\u003c/a\\u003e, under \\u003ca target=\\&quot;_blank\\&quot; href=\\&quot;http://www.openstreetmap.org/copyright\\&quot;\\u003eODbL\\u003c/a\\u003e.&quot;, &quot;detectRetina&quot;: false, &quot;maxNativeZoom&quot;: 18, &quot;maxZoom&quot;: 18, &quot;minZoom&quot;: 0, &quot;noWrap&quot;: false, &quot;opacity&quot;: 1, &quot;subdomains&quot;: &quot;abc&quot;, &quot;tms&quot;: false}\n",
       "            ).addTo(map_9c61a0097079e086a14a9141b9ee50ac);\n",
       "        \n",
       "    \n",
       "            var tile_layer_9bc433ffd889f2e223c915c7865d9ce2 = L.tileLayer(\n",
       "                &quot;https://earthengine.googleapis.com/v1alpha/projects/earthengine-legacy/maps/f19c3c270708b0f12f8e768939af0115-2bd516a03aa486ce0a5de20df7036e9a/tiles/{z}/{x}/{y}&quot;,\n",
       "                {&quot;attribution&quot;: &quot;Map Data \\u0026copy; \\u003ca href=\\&quot;https://earthengine.google.com/\\&quot;\\u003eGoogle Earth Engine\\u003c/a\\u003e&quot;, &quot;detectRetina&quot;: false, &quot;maxNativeZoom&quot;: 18, &quot;maxZoom&quot;: 18, &quot;minZoom&quot;: 0, &quot;noWrap&quot;: false, &quot;opacity&quot;: 1, &quot;subdomains&quot;: &quot;abc&quot;, &quot;tms&quot;: false}\n",
       "            ).addTo(map_9c61a0097079e086a14a9141b9ee50ac);\n",
       "        \n",
       "    \n",
       "            var tile_layer_a86896fb4a9208c856080401b8f41b17 = L.tileLayer(\n",
       "                &quot;https://earthengine.googleapis.com/v1alpha/projects/earthengine-legacy/maps/7301977ce9a1b827fa0ea1e78266becb-b47d22dc1b7f37d4f3ed7548a3efbf32/tiles/{z}/{x}/{y}&quot;,\n",
       "                {&quot;attribution&quot;: &quot;Map Data \\u0026copy; \\u003ca href=\\&quot;https://earthengine.google.com/\\&quot;\\u003eGoogle Earth Engine\\u003c/a\\u003e&quot;, &quot;detectRetina&quot;: false, &quot;maxNativeZoom&quot;: 18, &quot;maxZoom&quot;: 18, &quot;minZoom&quot;: 0, &quot;noWrap&quot;: false, &quot;opacity&quot;: 1, &quot;subdomains&quot;: &quot;abc&quot;, &quot;tms&quot;: false}\n",
       "            ).addTo(map_9c61a0097079e086a14a9141b9ee50ac);\n",
       "        \n",
       "    \n",
       "            var tile_layer_753cfe151c03845025aa29a57acba696 = L.tileLayer(\n",
       "                &quot;https://earthengine.googleapis.com/v1alpha/projects/earthengine-legacy/maps/a3e72955c70e9dfaa3be03c461a7a7ab-5642795cbe0210a7de7faec62a3a88da/tiles/{z}/{x}/{y}&quot;,\n",
       "                {&quot;attribution&quot;: &quot;Map Data \\u0026copy; \\u003ca href=\\&quot;https://earthengine.google.com/\\&quot;\\u003eGoogle Earth Engine\\u003c/a\\u003e&quot;, &quot;detectRetina&quot;: false, &quot;maxNativeZoom&quot;: 18, &quot;maxZoom&quot;: 18, &quot;minZoom&quot;: 0, &quot;noWrap&quot;: false, &quot;opacity&quot;: 1, &quot;subdomains&quot;: &quot;abc&quot;, &quot;tms&quot;: false}\n",
       "            ).addTo(map_9c61a0097079e086a14a9141b9ee50ac);\n",
       "        \n",
       "    \n",
       "            var tile_layer_1089751e6bfcdca2ffa4ab1a6c1dbb9c = L.tileLayer(\n",
       "                &quot;https://earthengine.googleapis.com/v1alpha/projects/earthengine-legacy/maps/2ddc386e537a8ed0472c76d12311f18f-0ca714e1f16e53a84e5b6658b2b0d85f/tiles/{z}/{x}/{y}&quot;,\n",
       "                {&quot;attribution&quot;: &quot;Map Data \\u0026copy; \\u003ca href=\\&quot;https://earthengine.google.com/\\&quot;\\u003eGoogle Earth Engine\\u003c/a\\u003e&quot;, &quot;detectRetina&quot;: false, &quot;maxNativeZoom&quot;: 18, &quot;maxZoom&quot;: 18, &quot;minZoom&quot;: 0, &quot;noWrap&quot;: false, &quot;opacity&quot;: 1, &quot;subdomains&quot;: &quot;abc&quot;, &quot;tms&quot;: false}\n",
       "            ).addTo(map_9c61a0097079e086a14a9141b9ee50ac);\n",
       "        \n",
       "    \n",
       "            var layer_control_6b9c018dd9dff1a784449687241345c7 = {\n",
       "                base_layers : {\n",
       "                    &quot;openstreetmap&quot; : tile_layer_eb19e763a573325b11a0a78a300dd3e7,\n",
       "                },\n",
       "                overlays :  {\n",
       "                    &quot;Sofala_2013&quot; : tile_layer_9bc433ffd889f2e223c915c7865d9ce2,\n",
       "                    &quot;Sofala_2016&quot; : tile_layer_a86896fb4a9208c856080401b8f41b17,\n",
       "                    &quot;Sofala_2019&quot; : tile_layer_753cfe151c03845025aa29a57acba696,\n",
       "                    &quot;Sofala_2022&quot; : tile_layer_1089751e6bfcdca2ffa4ab1a6c1dbb9c,\n",
       "                },\n",
       "            };\n",
       "            L.control.layers(\n",
       "                layer_control_6b9c018dd9dff1a784449687241345c7.base_layers,\n",
       "                layer_control_6b9c018dd9dff1a784449687241345c7.overlays,\n",
       "                {&quot;autoZIndex&quot;: true, &quot;collapsed&quot;: false, &quot;position&quot;: &quot;topright&quot;}\n",
       "            ).addTo(map_9c61a0097079e086a14a9141b9ee50ac);\n",
       "        \n",
       "&lt;/script&gt;\n",
       "&lt;/html&gt;\" style=\"position:absolute;width:100%;height:100%;left:0;top:0;border:none !important;\" allowfullscreen webkitallowfullscreen mozallowfullscreen></iframe></div></div>"
      ],
      "text/plain": [
       "<folium.folium.Map at 0x2030e7df9d0>"
      ]
     },
     "metadata": {},
     "output_type": "display_data"
    }
   ],
   "source": [
    "# Create a map\n",
    "my_map = folium.Map(location=[lon, lat], zoom_start=10)\n",
    "\n",
    "# Add a layer for each satellite image of interest (before, during and after)\n",
    "for img in range (dataset.size().getInfo()):\n",
    "\n",
    "    # when was this image taken?\n",
    "    year = ee.Image(img_list.get(img)).get('system:index').getInfo()\n",
    "\n",
    "    my_map.add_ee_layer(ee.Image(img_list.get(img)).select('NDVI'), indices_viz_params, name=year)\n",
    "    \n",
    "# Add a layer control panel to the map\n",
    "folium.LayerControl(collapsed = False).add_to(my_map)\n",
    "\n",
    "# Display the map.\n",
    "display(my_map)"
   ]
  },
  {
   "cell_type": "code",
   "execution_count": 21,
   "id": "a547f0bb",
   "metadata": {},
   "outputs": [
    {
     "data": {
      "application/vnd.jupyter.widget-view+json": {
       "model_id": "1dac7891f7c24edf920cc7e8731ed5c5",
       "version_major": 2,
       "version_minor": 0
      },
      "text/plain": [
       "Map(center=[-18.862, 34.481], controls=(WidgetControl(options=['position', 'transparent_bg'], widget=HBox(chil…"
      ]
     },
     "metadata": {},
     "output_type": "display_data"
    }
   ],
   "source": [
    "Map = geemap.Map(center=(lon,lat),zoom=9)\n",
    "Map.add_colorbar(vis_params=indices_viz_params, cmap='viridis',discrete=False,label=\"NDVI\",orientation='horizontal')\n",
    "Map.addLayer(ndvi_2013,indices_viz_params,'Test')\n",
    "Map"
   ]
  },
  {
   "cell_type": "code",
   "execution_count": 111,
   "id": "de094e07",
   "metadata": {},
   "outputs": [
    {
     "ename": "NameError",
     "evalue": "name 'jurisdiction' is not defined",
     "output_type": "error",
     "traceback": [
      "\u001b[1;31m---------------------------------------------------------------------------\u001b[0m",
      "\u001b[1;31mNameError\u001b[0m                                 Traceback (most recent call last)",
      "Cell \u001b[1;32mIn[111], line 27\u001b[0m\n\u001b[0;32m     24\u001b[0m plt\u001b[38;5;241m.\u001b[39myticks(rotation\u001b[38;5;241m=\u001b[39m\u001b[38;5;124m'\u001b[39m\u001b[38;5;124mvertical\u001b[39m\u001b[38;5;124m'\u001b[39m)\n\u001b[0;32m     26\u001b[0m \u001b[38;5;66;03m# add raster\u001b[39;00m\n\u001b[1;32m---> 27\u001b[0m basemap \u001b[38;5;241m=\u001b[39m ctx\u001b[38;5;241m.\u001b[39madd_basemap(source\u001b[38;5;241m=\u001b[39mctx\u001b[38;5;241m.\u001b[39mproviders\u001b[38;5;241m.\u001b[39mCartoDB\u001b[38;5;241m.\u001b[39mPositron, crs \u001b[38;5;241m=\u001b[39m \u001b[43mjurisdiction\u001b[49m\u001b[38;5;241m.\u001b[39mcrs\u001b[38;5;241m.\u001b[39mto_string(), ax \u001b[38;5;241m=\u001b[39m ax_indices )\n\u001b[0;32m     29\u001b[0m \u001b[38;5;66;03m# add colorbar\u001b[39;00m\n\u001b[0;32m     30\u001b[0m \u001b[38;5;66;03m# divider = make_axes_locatable(ax_indices)\u001b[39;00m\n\u001b[0;32m     31\u001b[0m fig_pop\u001b[38;5;241m.\u001b[39madd_colorbar(vis_params\u001b[38;5;241m=\u001b[39mindices_viz_params, cmap\u001b[38;5;241m=\u001b[39m\u001b[38;5;124m'\u001b[39m\u001b[38;5;124mviridis\u001b[39m\u001b[38;5;124m'\u001b[39m,discrete\u001b[38;5;241m=\u001b[39m\u001b[38;5;28;01mFalse\u001b[39;00m,label\u001b[38;5;241m=\u001b[39m\u001b[38;5;124m\"\u001b[39m\u001b[38;5;124mNDVI\u001b[39m\u001b[38;5;124m\"\u001b[39m,orientation\u001b[38;5;241m=\u001b[39m\u001b[38;5;124m'\u001b[39m\u001b[38;5;124mhorizontal\u001b[39m\u001b[38;5;124m'\u001b[39m)\n",
      "\u001b[1;31mNameError\u001b[0m: name 'jurisdiction' is not defined"
     ]
    },
    {
     "data": {
      "image/png": "[encoded data removed]",
      "text/plain": [
       "<Figure size 2000x2000 with 1 Axes>"
      ]
     },
     "metadata": {},
     "output_type": "display_data"
    }
   ],
   "source": [
    "fig_pop, ax_indices = plt.subplots(figsize = (20,20))\n",
    "\n",
    "# add north arrow\n",
    "x, y, arrow_length = 0.08, 0.1, 0.05\n",
    "ax_indices.annotate('N', color='white', xy=(x, y), xytext=(x, y-arrow_length), arrowprops=dict(facecolor='white', width=4, headwidth=12),\n",
    "                     ha='center', va='center', fontsize=20,\n",
    "                     xycoords=ax_indices.transAxes)\n",
    "\n",
    "# add legend\n",
    "legend_elements = [Line2D([0], [0], color='Grey', lw=1, label='Jurisdiction')]\n",
    "\n",
    "legend_roi = ax_indices.legend(handles=legend_elements,facecolor=\"white\", prop={'size': 12}, loc='lower right', title = \"Legend\")\n",
    "plt.setp(legend_roi.get_title(),fontsize='14')\n",
    "\n",
    "# add title\n",
    "# visualization parameter font size, type and weight\n",
    "ax_indices.set_title('Normalized Difference Vegetation Index (NDVI)',family='sans-serif',fontweight = 'semibold', fontsize=20)\n",
    "\n",
    "# add scale bar\n",
    "ax_indices.add_artist(ScaleBar(1,box_alpha=0.6, location = 'lower left'))\n",
    "\n",
    "# add roi border\n",
    "ax_indices = df_roi.plot(figsize=(20, 20), color = None, edgecolor = 'Grey', linewidth = 1, facecolor=\"none\", ax = ax_indices)\n",
    "plt.yticks(rotation='vertical')\n",
    "\n",
    "# add raster\n",
    "basemap = ctx.add_basemap(source=ctx.providers.CartoDB.Positron, crs = jurisdiction.crs.to_string(), ax = ax_indices )\n",
    "\n",
    "\n",
    "# add colorbar\n",
    "# divider = make_axes_locatable(ax_indices)\n",
    "fig_pop.add_colorbar(vis_params=indices_viz_params, cmap='viridis',discrete=False,label=\"NDVI\",orientation='horizontal')\n",
    "# cax_indices = divider.append_axes(\"bottom\", size=\"3%\", pad=0.1)\n",
    "# cbar = fig_pop.colorbar(matplotlib.cm.ScalarMappable(norm=norm_pop,cmap=cmap_pop), cax=cax_indices, ax=ax_indices, orientation ='horizontal',\n",
    "#                 label=\"Population Density (Population/Ha)\")"
   ]
  }
 ],
 "metadata": {
  "kernelspec": {
   "display_name": "Python 3 (ipykernel)",
   "language": "python",
   "name": "python3"
  },
  "language_info": {
   "codemirror_mode": {
    "name": "ipython",
    "version": 3
   },
   "file_extension": ".py",
   "mimetype": "text/x-python",
   "name": "python",
   "nbconvert_exporter": "python",
   "pygments_lexer": "ipython3",
   "version": "3.9.15"
  }
 },
 "nbformat": 4,
 "nbformat_minor": 5
}
